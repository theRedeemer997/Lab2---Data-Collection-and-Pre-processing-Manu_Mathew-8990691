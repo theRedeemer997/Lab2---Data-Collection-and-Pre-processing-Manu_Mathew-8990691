{
 "cells": [
  {
   "cell_type": "markdown",
   "id": "1d99b45c",
   "metadata": {},
   "source": [
    "#### Lab2 - Data Collection and Pre-processing - Manu Mathew - 8990691"
   ]
  },
  {
   "cell_type": "markdown",
   "id": "09552b07",
   "metadata": {},
   "source": [
    "##### Adding the required imports "
   ]
  },
  {
   "cell_type": "code",
   "execution_count": 3,
   "id": "93ae491a",
   "metadata": {},
   "outputs": [],
   "source": [
    "import pandas as pd"
   ]
  },
  {
   "cell_type": "markdown",
   "id": "b7eb2bf0",
   "metadata": {},
   "source": [
    "##### Load raw CSV, display first 3 rows"
   ]
  },
  {
   "cell_type": "code",
   "execution_count": 4,
   "id": "647674f1",
   "metadata": {},
   "outputs": [
    {
     "name": "stdout",
     "output_type": "stream",
     "text": [
      "         date  customer_id   product  product_id  price  quantity  \\\n",
      "0  2025-05-26         3000    Apples           1  13.23         3   \n",
      "1  2025-05-04         3001      Milk           4  27.94         1   \n",
      "2  2025-05-19         3002  Tomatoes           9  13.72         6   \n",
      "\n",
      "  shipping_city  coupon_id  \n",
      "0        Ottawa          1  \n",
      "1     Vancouver          4  \n",
      "2        Ottawa          5  \n"
     ]
    }
   ],
   "source": [
    "df = pd.read_csv(\"data/Grocery_Transactions.csv\")\n",
    "print(df.head(3))"
   ]
  }
 ],
 "metadata": {
  "kernelspec": {
   "display_name": "venv",
   "language": "python",
   "name": "python3"
  },
  "language_info": {
   "codemirror_mode": {
    "name": "ipython",
    "version": 3
   },
   "file_extension": ".py",
   "mimetype": "text/x-python",
   "name": "python",
   "nbconvert_exporter": "python",
   "pygments_lexer": "ipython3",
   "version": "3.13.3"
  }
 },
 "nbformat": 4,
 "nbformat_minor": 5
}
